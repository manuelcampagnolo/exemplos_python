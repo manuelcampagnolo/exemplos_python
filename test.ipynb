{
  "nbformat": 4,
  "nbformat_minor": 0,
  "metadata": {
    "colab": {
      "provenance": [],
      "toc_visible": true,
      "mount_file_id": "1byhHmYuZDUzUoDxLA0JSH11QxT-10T8u",
      "authorship_tag": "ABX9TyPLc3zBB3h0G4qxi8yesXbm",
      "include_colab_link": true
    },
    "kernelspec": {
      "name": "python3",
      "display_name": "Python 3"
    },
    "language_info": {
      "name": "python"
    }
  },
  "cells": [
    {
      "cell_type": "markdown",
      "metadata": {
        "id": "view-in-github",
        "colab_type": "text"
      },
      "source": [
        "<a href=\"https://colab.research.google.com/github/manuelcampagnolo/exemplos_python/blob/main/test.ipynb\" target=\"_parent\"><img src=\"https://colab.research.google.com/assets/colab-badge.svg\" alt=\"Open In Colab\"/></a>"
      ]
    },
    {
      "cell_type": "markdown",
      "source": [
        "# My first notebook\n",
        "\n",
        "Next I have a block of code:"
      ],
      "metadata": {
        "id": "L8Cg7vJW9sO3"
      }
    },
    {
      "cell_type": "code",
      "execution_count": null,
      "metadata": {
        "id": "zJ68YLYJ7nLn"
      },
      "outputs": [],
      "source": [
        "print('hello')"
      ]
    },
    {
      "cell_type": "markdown",
      "source": [
        "## let's keep programming\n",
        "\n",
        "1. read a file\n",
        "2. count number of lines\n",
        "\n"
      ],
      "metadata": {
        "id": "uLWTE6TR-Aog"
      }
    },
    {
      "cell_type": "markdown",
      "source": [
        "## next I do smth different"
      ],
      "metadata": {
        "id": "ox29TQ2G-fGe"
      }
    }
  ]
}