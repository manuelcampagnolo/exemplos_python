{
  "nbformat": 4,
  "nbformat_minor": 0,
  "metadata": {
    "colab": {
      "provenance": [],
      "authorship_tag": "ABX9TyMrdSU2h49x/c5u/k90z/ok",
      "include_colab_link": true
    },
    "kernelspec": {
      "name": "python3",
      "display_name": "Python 3"
    },
    "language_info": {
      "name": "python"
    }
  },
  "cells": [
    {
      "cell_type": "markdown",
      "metadata": {
        "id": "view-in-github",
        "colab_type": "text"
      },
      "source": [
        "<a href=\"https://colab.research.google.com/github/manuelcampagnolo/exemplos_python/blob/main/rf_embeddings.ipynb\" target=\"_parent\"><img src=\"https://colab.research.google.com/assets/colab-badge.svg\" alt=\"Open In Colab\"/></a>"
      ]
    },
    {
      "cell_type": "code",
      "execution_count": 1,
      "metadata": {
        "colab": {
          "base_uri": "https://localhost:8080/",
          "height": 90
        },
        "id": "GqkbtHhr-V95",
        "outputId": "1b120a35-c602-4400-fb68-fea527033a0a"
      },
      "outputs": [
        {
          "output_type": "display_data",
          "data": {
            "text/plain": [
              "<IPython.core.display.HTML object>"
            ],
            "text/html": [
              "\n",
              "     <input type=\"file\" id=\"files-20d56683-f02f-4ec8-a685-2a6972430473\" name=\"files[]\" multiple disabled\n",
              "        style=\"border:none\" />\n",
              "     <output id=\"result-20d56683-f02f-4ec8-a685-2a6972430473\">\n",
              "      Upload widget is only available when the cell has been executed in the\n",
              "      current browser session. Please rerun this cell to enable.\n",
              "      </output>\n",
              "      <script>// Copyright 2017 Google LLC\n",
              "//\n",
              "// Licensed under the Apache License, Version 2.0 (the \"License\");\n",
              "// you may not use this file except in compliance with the License.\n",
              "// You may obtain a copy of the License at\n",
              "//\n",
              "//      http://www.apache.org/licenses/LICENSE-2.0\n",
              "//\n",
              "// Unless required by applicable law or agreed to in writing, software\n",
              "// distributed under the License is distributed on an \"AS IS\" BASIS,\n",
              "// WITHOUT WARRANTIES OR CONDITIONS OF ANY KIND, either express or implied.\n",
              "// See the License for the specific language governing permissions and\n",
              "// limitations under the License.\n",
              "\n",
              "/**\n",
              " * @fileoverview Helpers for google.colab Python module.\n",
              " */\n",
              "(function(scope) {\n",
              "function span(text, styleAttributes = {}) {\n",
              "  const element = document.createElement('span');\n",
              "  element.textContent = text;\n",
              "  for (const key of Object.keys(styleAttributes)) {\n",
              "    element.style[key] = styleAttributes[key];\n",
              "  }\n",
              "  return element;\n",
              "}\n",
              "\n",
              "// Max number of bytes which will be uploaded at a time.\n",
              "const MAX_PAYLOAD_SIZE = 100 * 1024;\n",
              "\n",
              "function _uploadFiles(inputId, outputId) {\n",
              "  const steps = uploadFilesStep(inputId, outputId);\n",
              "  const outputElement = document.getElementById(outputId);\n",
              "  // Cache steps on the outputElement to make it available for the next call\n",
              "  // to uploadFilesContinue from Python.\n",
              "  outputElement.steps = steps;\n",
              "\n",
              "  return _uploadFilesContinue(outputId);\n",
              "}\n",
              "\n",
              "// This is roughly an async generator (not supported in the browser yet),\n",
              "// where there are multiple asynchronous steps and the Python side is going\n",
              "// to poll for completion of each step.\n",
              "// This uses a Promise to block the python side on completion of each step,\n",
              "// then passes the result of the previous step as the input to the next step.\n",
              "function _uploadFilesContinue(outputId) {\n",
              "  const outputElement = document.getElementById(outputId);\n",
              "  const steps = outputElement.steps;\n",
              "\n",
              "  const next = steps.next(outputElement.lastPromiseValue);\n",
              "  return Promise.resolve(next.value.promise).then((value) => {\n",
              "    // Cache the last promise value to make it available to the next\n",
              "    // step of the generator.\n",
              "    outputElement.lastPromiseValue = value;\n",
              "    return next.value.response;\n",
              "  });\n",
              "}\n",
              "\n",
              "/**\n",
              " * Generator function which is called between each async step of the upload\n",
              " * process.\n",
              " * @param {string} inputId Element ID of the input file picker element.\n",
              " * @param {string} outputId Element ID of the output display.\n",
              " * @return {!Iterable<!Object>} Iterable of next steps.\n",
              " */\n",
              "function* uploadFilesStep(inputId, outputId) {\n",
              "  const inputElement = document.getElementById(inputId);\n",
              "  inputElement.disabled = false;\n",
              "\n",
              "  const outputElement = document.getElementById(outputId);\n",
              "  outputElement.innerHTML = '';\n",
              "\n",
              "  const pickedPromise = new Promise((resolve) => {\n",
              "    inputElement.addEventListener('change', (e) => {\n",
              "      resolve(e.target.files);\n",
              "    });\n",
              "  });\n",
              "\n",
              "  const cancel = document.createElement('button');\n",
              "  inputElement.parentElement.appendChild(cancel);\n",
              "  cancel.textContent = 'Cancel upload';\n",
              "  const cancelPromise = new Promise((resolve) => {\n",
              "    cancel.onclick = () => {\n",
              "      resolve(null);\n",
              "    };\n",
              "  });\n",
              "\n",
              "  // Wait for the user to pick the files.\n",
              "  const files = yield {\n",
              "    promise: Promise.race([pickedPromise, cancelPromise]),\n",
              "    response: {\n",
              "      action: 'starting',\n",
              "    }\n",
              "  };\n",
              "\n",
              "  cancel.remove();\n",
              "\n",
              "  // Disable the input element since further picks are not allowed.\n",
              "  inputElement.disabled = true;\n",
              "\n",
              "  if (!files) {\n",
              "    return {\n",
              "      response: {\n",
              "        action: 'complete',\n",
              "      }\n",
              "    };\n",
              "  }\n",
              "\n",
              "  for (const file of files) {\n",
              "    const li = document.createElement('li');\n",
              "    li.append(span(file.name, {fontWeight: 'bold'}));\n",
              "    li.append(span(\n",
              "        `(${file.type || 'n/a'}) - ${file.size} bytes, ` +\n",
              "        `last modified: ${\n",
              "            file.lastModifiedDate ? file.lastModifiedDate.toLocaleDateString() :\n",
              "                                    'n/a'} - `));\n",
              "    const percent = span('0% done');\n",
              "    li.appendChild(percent);\n",
              "\n",
              "    outputElement.appendChild(li);\n",
              "\n",
              "    const fileDataPromise = new Promise((resolve) => {\n",
              "      const reader = new FileReader();\n",
              "      reader.onload = (e) => {\n",
              "        resolve(e.target.result);\n",
              "      };\n",
              "      reader.readAsArrayBuffer(file);\n",
              "    });\n",
              "    // Wait for the data to be ready.\n",
              "    let fileData = yield {\n",
              "      promise: fileDataPromise,\n",
              "      response: {\n",
              "        action: 'continue',\n",
              "      }\n",
              "    };\n",
              "\n",
              "    // Use a chunked sending to avoid message size limits. See b/62115660.\n",
              "    let position = 0;\n",
              "    do {\n",
              "      const length = Math.min(fileData.byteLength - position, MAX_PAYLOAD_SIZE);\n",
              "      const chunk = new Uint8Array(fileData, position, length);\n",
              "      position += length;\n",
              "\n",
              "      const base64 = btoa(String.fromCharCode.apply(null, chunk));\n",
              "      yield {\n",
              "        response: {\n",
              "          action: 'append',\n",
              "          file: file.name,\n",
              "          data: base64,\n",
              "        },\n",
              "      };\n",
              "\n",
              "      let percentDone = fileData.byteLength === 0 ?\n",
              "          100 :\n",
              "          Math.round((position / fileData.byteLength) * 100);\n",
              "      percent.textContent = `${percentDone}% done`;\n",
              "\n",
              "    } while (position < fileData.byteLength);\n",
              "  }\n",
              "\n",
              "  // All done.\n",
              "  yield {\n",
              "    response: {\n",
              "      action: 'complete',\n",
              "    }\n",
              "  };\n",
              "}\n",
              "\n",
              "scope.google = scope.google || {};\n",
              "scope.google.colab = scope.google.colab || {};\n",
              "scope.google.colab._files = {\n",
              "  _uploadFiles,\n",
              "  _uploadFilesContinue,\n",
              "};\n",
              "})(self);\n",
              "</script> "
            ]
          },
          "metadata": {}
        },
        {
          "output_type": "stream",
          "name": "stdout",
          "text": [
            "Saving embedding_T29TNE_2018_2021_all.csv to embedding_T29TNE_2018_2021_all.csv\n",
            "User uploaded file \"embedding_T29TNE_2018_2021_all.csv\" with length 15629844 bytes\n"
          ]
        }
      ],
      "source": []
    },
    {
      "cell_type": "code",
      "source": [],
      "metadata": {
        "colab": {
          "base_uri": "https://localhost:8080/",
          "height": 235
        },
        "id": "EN2yPnly-yIk",
        "outputId": "9eea8771-8c3d-441c-faba-713b80229e55"
      },
      "execution_count": 2,
      "outputs": [
        {
          "output_type": "display_data",
          "data": {
            "text/plain": [
              "    banda_0   banda_1   banda_2   banda_3   banda_4   banda_5   banda_6  \\\n",
              "0  0.130165  0.024606 -0.093564  0.017778  0.141730 -0.071111  0.038447   \n",
              "1  0.141730  0.041584 -0.084214  0.006151  0.130165 -0.062991  0.038447   \n",
              "2  0.147697  0.022207 -0.071111 -0.000062  0.130165 -0.002215  0.012057   \n",
              "3  0.119093  0.019931 -0.098424  0.012057  0.130165 -0.079723  0.035433   \n",
              "4  0.172795  0.008858 -0.055363  0.017778  0.130165 -0.008858  0.019931   \n",
              "\n",
              "    banda_7   banda_8   banda_9  ...  banda_59  banda_60  banda_61  banda_62  \\\n",
              "0  0.019931  0.251965 -0.017778  ... -0.251965  0.192910  0.066990 -0.022207   \n",
              "1  0.012057  0.228897 -0.029773  ... -0.267958  0.179377  0.079723 -0.007443   \n",
              "2 -0.022207  0.236463 -0.032541  ... -0.259900  0.244152  0.003937  0.010396   \n",
              "3  0.029773  0.251965 -0.012057  ... -0.267958  0.199862  0.059116 -0.029773   \n",
              "4  0.000554  0.251965 -0.032541  ... -0.244152  0.244152  0.017778 -0.000062   \n",
              "\n",
              "   banda_63         x          y  label  poligono_id   ano  \n",
              "0 -0.075356  599025.0  4450235.0      1          116  2018  \n",
              "1 -0.079723  599015.0  4450205.0      1          116  2018  \n",
              "2 -0.098424  598945.0  4450055.0      1          116  2018  \n",
              "3 -0.055363  599045.0  4450245.0      1          116  2018  \n",
              "4 -0.098424  598935.0  4450045.0      1          116  2018  \n",
              "\n",
              "[5 rows x 69 columns]"
            ],
            "text/html": [
              "\n",
              "  <div id=\"df-af5c5821-75e0-484c-a88e-87961556ec10\" class=\"colab-df-container\">\n",
              "    <div>\n",
              "<style scoped>\n",
              "    .dataframe tbody tr th:only-of-type {\n",
              "        vertical-align: middle;\n",
              "    }\n",
              "\n",
              "    .dataframe tbody tr th {\n",
              "        vertical-align: top;\n",
              "    }\n",
              "\n",
              "    .dataframe thead th {\n",
              "        text-align: right;\n",
              "    }\n",
              "</style>\n",
              "<table border=\"1\" class=\"dataframe\">\n",
              "  <thead>\n",
              "    <tr style=\"text-align: right;\">\n",
              "      <th></th>\n",
              "      <th>banda_0</th>\n",
              "      <th>banda_1</th>\n",
              "      <th>banda_2</th>\n",
              "      <th>banda_3</th>\n",
              "      <th>banda_4</th>\n",
              "      <th>banda_5</th>\n",
              "      <th>banda_6</th>\n",
              "      <th>banda_7</th>\n",
              "      <th>banda_8</th>\n",
              "      <th>banda_9</th>\n",
              "      <th>...</th>\n",
              "      <th>banda_59</th>\n",
              "      <th>banda_60</th>\n",
              "      <th>banda_61</th>\n",
              "      <th>banda_62</th>\n",
              "      <th>banda_63</th>\n",
              "      <th>x</th>\n",
              "      <th>y</th>\n",
              "      <th>label</th>\n",
              "      <th>poligono_id</th>\n",
              "      <th>ano</th>\n",
              "    </tr>\n",
              "  </thead>\n",
              "  <tbody>\n",
              "    <tr>\n",
              "      <th>0</th>\n",
              "      <td>0.130165</td>\n",
              "      <td>0.024606</td>\n",
              "      <td>-0.093564</td>\n",
              "      <td>0.017778</td>\n",
              "      <td>0.141730</td>\n",
              "      <td>-0.071111</td>\n",
              "      <td>0.038447</td>\n",
              "      <td>0.019931</td>\n",
              "      <td>0.251965</td>\n",
              "      <td>-0.017778</td>\n",
              "      <td>...</td>\n",
              "      <td>-0.251965</td>\n",
              "      <td>0.192910</td>\n",
              "      <td>0.066990</td>\n",
              "      <td>-0.022207</td>\n",
              "      <td>-0.075356</td>\n",
              "      <td>599025.0</td>\n",
              "      <td>4450235.0</td>\n",
              "      <td>1</td>\n",
              "      <td>116</td>\n",
              "      <td>2018</td>\n",
              "    </tr>\n",
              "    <tr>\n",
              "      <th>1</th>\n",
              "      <td>0.141730</td>\n",
              "      <td>0.041584</td>\n",
              "      <td>-0.084214</td>\n",
              "      <td>0.006151</td>\n",
              "      <td>0.130165</td>\n",
              "      <td>-0.062991</td>\n",
              "      <td>0.038447</td>\n",
              "      <td>0.012057</td>\n",
              "      <td>0.228897</td>\n",
              "      <td>-0.029773</td>\n",
              "      <td>...</td>\n",
              "      <td>-0.267958</td>\n",
              "      <td>0.179377</td>\n",
              "      <td>0.079723</td>\n",
              "      <td>-0.007443</td>\n",
              "      <td>-0.079723</td>\n",
              "      <td>599015.0</td>\n",
              "      <td>4450205.0</td>\n",
              "      <td>1</td>\n",
              "      <td>116</td>\n",
              "      <td>2018</td>\n",
              "    </tr>\n",
              "    <tr>\n",
              "      <th>2</th>\n",
              "      <td>0.147697</td>\n",
              "      <td>0.022207</td>\n",
              "      <td>-0.071111</td>\n",
              "      <td>-0.000062</td>\n",
              "      <td>0.130165</td>\n",
              "      <td>-0.002215</td>\n",
              "      <td>0.012057</td>\n",
              "      <td>-0.022207</td>\n",
              "      <td>0.236463</td>\n",
              "      <td>-0.032541</td>\n",
              "      <td>...</td>\n",
              "      <td>-0.259900</td>\n",
              "      <td>0.244152</td>\n",
              "      <td>0.003937</td>\n",
              "      <td>0.010396</td>\n",
              "      <td>-0.098424</td>\n",
              "      <td>598945.0</td>\n",
              "      <td>4450055.0</td>\n",
              "      <td>1</td>\n",
              "      <td>116</td>\n",
              "      <td>2018</td>\n",
              "    </tr>\n",
              "    <tr>\n",
              "      <th>3</th>\n",
              "      <td>0.119093</td>\n",
              "      <td>0.019931</td>\n",
              "      <td>-0.098424</td>\n",
              "      <td>0.012057</td>\n",
              "      <td>0.130165</td>\n",
              "      <td>-0.079723</td>\n",
              "      <td>0.035433</td>\n",
              "      <td>0.029773</td>\n",
              "      <td>0.251965</td>\n",
              "      <td>-0.012057</td>\n",
              "      <td>...</td>\n",
              "      <td>-0.267958</td>\n",
              "      <td>0.199862</td>\n",
              "      <td>0.059116</td>\n",
              "      <td>-0.029773</td>\n",
              "      <td>-0.055363</td>\n",
              "      <td>599045.0</td>\n",
              "      <td>4450245.0</td>\n",
              "      <td>1</td>\n",
              "      <td>116</td>\n",
              "      <td>2018</td>\n",
              "    </tr>\n",
              "    <tr>\n",
              "      <th>4</th>\n",
              "      <td>0.172795</td>\n",
              "      <td>0.008858</td>\n",
              "      <td>-0.055363</td>\n",
              "      <td>0.017778</td>\n",
              "      <td>0.130165</td>\n",
              "      <td>-0.008858</td>\n",
              "      <td>0.019931</td>\n",
              "      <td>0.000554</td>\n",
              "      <td>0.251965</td>\n",
              "      <td>-0.032541</td>\n",
              "      <td>...</td>\n",
              "      <td>-0.244152</td>\n",
              "      <td>0.244152</td>\n",
              "      <td>0.017778</td>\n",
              "      <td>-0.000062</td>\n",
              "      <td>-0.098424</td>\n",
              "      <td>598935.0</td>\n",
              "      <td>4450045.0</td>\n",
              "      <td>1</td>\n",
              "      <td>116</td>\n",
              "      <td>2018</td>\n",
              "    </tr>\n",
              "  </tbody>\n",
              "</table>\n",
              "<p>5 rows × 69 columns</p>\n",
              "</div>\n",
              "    <div class=\"colab-df-buttons\">\n",
              "\n",
              "  <div class=\"colab-df-container\">\n",
              "    <button class=\"colab-df-convert\" onclick=\"convertToInteractive('df-af5c5821-75e0-484c-a88e-87961556ec10')\"\n",
              "            title=\"Convert this dataframe to an interactive table.\"\n",
              "            style=\"display:none;\">\n",
              "\n",
              "  <svg xmlns=\"http://www.w3.org/2000/svg\" height=\"24px\" viewBox=\"0 -960 960 960\">\n",
              "    <path d=\"M120-120v-720h720v720H120Zm60-500h600v-160H180v160Zm220 220h160v-160H400v160Zm0 220h160v-160H400v160ZM180-400h160v-160H180v160Zm440 0h160v-160H620v160ZM180-180h160v-160H180v160Zm440 0h160v-160H620v160Z\"/>\n",
              "  </svg>\n",
              "    </button>\n",
              "\n",
              "  <style>\n",
              "    .colab-df-container {\n",
              "      display:flex;\n",
              "      gap: 12px;\n",
              "    }\n",
              "\n",
              "    .colab-df-convert {\n",
              "      background-color: #E8F0FE;\n",
              "      border: none;\n",
              "      border-radius: 50%;\n",
              "      cursor: pointer;\n",
              "      display: none;\n",
              "      fill: #1967D2;\n",
              "      height: 32px;\n",
              "      padding: 0 0 0 0;\n",
              "      width: 32px;\n",
              "    }\n",
              "\n",
              "    .colab-df-convert:hover {\n",
              "      background-color: #E2EBFA;\n",
              "      box-shadow: 0px 1px 2px rgba(60, 64, 67, 0.3), 0px 1px 3px 1px rgba(60, 64, 67, 0.15);\n",
              "      fill: #174EA6;\n",
              "    }\n",
              "\n",
              "    .colab-df-buttons div {\n",
              "      margin-bottom: 4px;\n",
              "    }\n",
              "\n",
              "    [theme=dark] .colab-df-convert {\n",
              "      background-color: #3B4455;\n",
              "      fill: #D2E3FC;\n",
              "    }\n",
              "\n",
              "    [theme=dark] .colab-df-convert:hover {\n",
              "      background-color: #434B5C;\n",
              "      box-shadow: 0px 1px 3px 1px rgba(0, 0, 0, 0.15);\n",
              "      filter: drop-shadow(0px 1px 2px rgba(0, 0, 0, 0.3));\n",
              "      fill: #FFFFFF;\n",
              "    }\n",
              "  </style>\n",
              "\n",
              "    <script>\n",
              "      const buttonEl =\n",
              "        document.querySelector('#df-af5c5821-75e0-484c-a88e-87961556ec10 button.colab-df-convert');\n",
              "      buttonEl.style.display =\n",
              "        google.colab.kernel.accessAllowed ? 'block' : 'none';\n",
              "\n",
              "      async function convertToInteractive(key) {\n",
              "        const element = document.querySelector('#df-af5c5821-75e0-484c-a88e-87961556ec10');\n",
              "        const dataTable =\n",
              "          await google.colab.kernel.invokeFunction('convertToInteractive',\n",
              "                                                    [key], {});\n",
              "        if (!dataTable) return;\n",
              "\n",
              "        const docLinkHtml = 'Like what you see? Visit the ' +\n",
              "          '<a target=\"_blank\" href=https://colab.research.google.com/notebooks/data_table.ipynb>data table notebook</a>'\n",
              "          + ' to learn more about interactive tables.';\n",
              "        element.innerHTML = '';\n",
              "        dataTable['output_type'] = 'display_data';\n",
              "        await google.colab.output.renderOutput(dataTable, element);\n",
              "        const docLink = document.createElement('div');\n",
              "        docLink.innerHTML = docLinkHtml;\n",
              "        element.appendChild(docLink);\n",
              "      }\n",
              "    </script>\n",
              "  </div>\n",
              "\n",
              "\n",
              "    <div id=\"df-b4de4e58-5ee3-4184-9e31-977cc44738ba\">\n",
              "      <button class=\"colab-df-quickchart\" onclick=\"quickchart('df-b4de4e58-5ee3-4184-9e31-977cc44738ba')\"\n",
              "                title=\"Suggest charts\"\n",
              "                style=\"display:none;\">\n",
              "\n",
              "<svg xmlns=\"http://www.w3.org/2000/svg\" height=\"24px\"viewBox=\"0 0 24 24\"\n",
              "     width=\"24px\">\n",
              "    <g>\n",
              "        <path d=\"M19 3H5c-1.1 0-2 .9-2 2v14c0 1.1.9 2 2 2h14c1.1 0 2-.9 2-2V5c0-1.1-.9-2-2-2zM9 17H7v-7h2v7zm4 0h-2V7h2v10zm4 0h-2v-4h2v4z\"/>\n",
              "    </g>\n",
              "</svg>\n",
              "      </button>\n",
              "\n",
              "<style>\n",
              "  .colab-df-quickchart {\n",
              "      --bg-color: #E8F0FE;\n",
              "      --fill-color: #1967D2;\n",
              "      --hover-bg-color: #E2EBFA;\n",
              "      --hover-fill-color: #174EA6;\n",
              "      --disabled-fill-color: #AAA;\n",
              "      --disabled-bg-color: #DDD;\n",
              "  }\n",
              "\n",
              "  [theme=dark] .colab-df-quickchart {\n",
              "      --bg-color: #3B4455;\n",
              "      --fill-color: #D2E3FC;\n",
              "      --hover-bg-color: #434B5C;\n",
              "      --hover-fill-color: #FFFFFF;\n",
              "      --disabled-bg-color: #3B4455;\n",
              "      --disabled-fill-color: #666;\n",
              "  }\n",
              "\n",
              "  .colab-df-quickchart {\n",
              "    background-color: var(--bg-color);\n",
              "    border: none;\n",
              "    border-radius: 50%;\n",
              "    cursor: pointer;\n",
              "    display: none;\n",
              "    fill: var(--fill-color);\n",
              "    height: 32px;\n",
              "    padding: 0;\n",
              "    width: 32px;\n",
              "  }\n",
              "\n",
              "  .colab-df-quickchart:hover {\n",
              "    background-color: var(--hover-bg-color);\n",
              "    box-shadow: 0 1px 2px rgba(60, 64, 67, 0.3), 0 1px 3px 1px rgba(60, 64, 67, 0.15);\n",
              "    fill: var(--button-hover-fill-color);\n",
              "  }\n",
              "\n",
              "  .colab-df-quickchart-complete:disabled,\n",
              "  .colab-df-quickchart-complete:disabled:hover {\n",
              "    background-color: var(--disabled-bg-color);\n",
              "    fill: var(--disabled-fill-color);\n",
              "    box-shadow: none;\n",
              "  }\n",
              "\n",
              "  .colab-df-spinner {\n",
              "    border: 2px solid var(--fill-color);\n",
              "    border-color: transparent;\n",
              "    border-bottom-color: var(--fill-color);\n",
              "    animation:\n",
              "      spin 1s steps(1) infinite;\n",
              "  }\n",
              "\n",
              "  @keyframes spin {\n",
              "    0% {\n",
              "      border-color: transparent;\n",
              "      border-bottom-color: var(--fill-color);\n",
              "      border-left-color: var(--fill-color);\n",
              "    }\n",
              "    20% {\n",
              "      border-color: transparent;\n",
              "      border-left-color: var(--fill-color);\n",
              "      border-top-color: var(--fill-color);\n",
              "    }\n",
              "    30% {\n",
              "      border-color: transparent;\n",
              "      border-left-color: var(--fill-color);\n",
              "      border-top-color: var(--fill-color);\n",
              "      border-right-color: var(--fill-color);\n",
              "    }\n",
              "    40% {\n",
              "      border-color: transparent;\n",
              "      border-right-color: var(--fill-color);\n",
              "      border-top-color: var(--fill-color);\n",
              "    }\n",
              "    60% {\n",
              "      border-color: transparent;\n",
              "      border-right-color: var(--fill-color);\n",
              "    }\n",
              "    80% {\n",
              "      border-color: transparent;\n",
              "      border-right-color: var(--fill-color);\n",
              "      border-bottom-color: var(--fill-color);\n",
              "    }\n",
              "    90% {\n",
              "      border-color: transparent;\n",
              "      border-bottom-color: var(--fill-color);\n",
              "    }\n",
              "  }\n",
              "</style>\n",
              "\n",
              "      <script>\n",
              "        async function quickchart(key) {\n",
              "          const quickchartButtonEl =\n",
              "            document.querySelector('#' + key + ' button');\n",
              "          quickchartButtonEl.disabled = true;  // To prevent multiple clicks.\n",
              "          quickchartButtonEl.classList.add('colab-df-spinner');\n",
              "          try {\n",
              "            const charts = await google.colab.kernel.invokeFunction(\n",
              "                'suggestCharts', [key], {});\n",
              "          } catch (error) {\n",
              "            console.error('Error during call to suggestCharts:', error);\n",
              "          }\n",
              "          quickchartButtonEl.classList.remove('colab-df-spinner');\n",
              "          quickchartButtonEl.classList.add('colab-df-quickchart-complete');\n",
              "        }\n",
              "        (() => {\n",
              "          let quickchartButtonEl =\n",
              "            document.querySelector('#df-b4de4e58-5ee3-4184-9e31-977cc44738ba button');\n",
              "          quickchartButtonEl.style.display =\n",
              "            google.colab.kernel.accessAllowed ? 'block' : 'none';\n",
              "        })();\n",
              "      </script>\n",
              "    </div>\n",
              "\n",
              "    </div>\n",
              "  </div>\n"
            ],
            "application/vnd.google.colaboratory.intrinsic+json": {
              "type": "dataframe"
            }
          },
          "metadata": {}
        }
      ]
    },
    {
      "cell_type": "markdown",
      "metadata": {
        "id": "2edf3d7a"
      },
      "source": [
        "# Task\n",
        "Analyze the provided data to predict the 'label' column using a Random Forest classifier. Exclude the columns 'x', 'y', and 'ano' from the features. Perform a 5-fold cross-validation using GroupKFold based on the 'poligono_id' column. Report the cross-validation scores."
      ]
    },
    {
      "cell_type": "markdown",
      "metadata": {
        "id": "eaefcf0f"
      },
      "source": [
        "## Prepare data\n",
        "\n",
        "### Subtask:\n",
        "Separate the features (all columns except 'label', 'x', 'y', and 'ano') and the target variable ('label'). Also, create a variable for the groups ('poligono_id').\n"
      ]
    },
    {
      "cell_type": "markdown",
      "metadata": {
        "id": "e5556659"
      },
      "source": [
        "**Reasoning**:\n",
        "Separate the features, target, and groups based on the instructions.\n",
        "\n"
      ]
    },
    {
      "cell_type": "code",
      "metadata": {
        "id": "567feb50"
      },
      "source": [
        "feature_columns = [col for col in df.columns if col not in ['label', 'x', 'y', 'ano']]\n",
        "X = df[feature_columns]\n",
        "y = df['label']\n",
        "groups = df['poligono_id']"
      ],
      "execution_count": 4,
      "outputs": []
    },
    {
      "cell_type": "markdown",
      "metadata": {
        "id": "e8af3e4a"
      },
      "source": [
        "## Initialize random forest\n",
        "\n",
        "### Subtask:\n",
        "Set up a Random Forest classifier.\n"
      ]
    },
    {
      "cell_type": "markdown",
      "metadata": {
        "id": "4d718e09"
      },
      "source": [
        "**Reasoning**:\n",
        "Import the necessary class and instantiate the Random Forest classifier as instructed.\n",
        "\n"
      ]
    },
    {
      "cell_type": "code",
      "metadata": {
        "id": "a6c61183"
      },
      "source": [
        "from sklearn.ensemble import RandomForestClassifier\n",
        "\n",
        "rf_classifier = RandomForestClassifier(random_state=42)"
      ],
      "execution_count": 5,
      "outputs": []
    },
    {
      "cell_type": "markdown",
      "metadata": {
        "id": "391a368f"
      },
      "source": [
        "## Set up groupkfold\n",
        "\n",
        "### Subtask:\n",
        "Configure GroupKFold for 5 splits using the 'poligono_id' groups.\n"
      ]
    },
    {
      "cell_type": "markdown",
      "metadata": {
        "id": "3b78b19e"
      },
      "source": [
        "**Reasoning**:\n",
        "Configure GroupKFold for 5 splits using the 'poligono_id' groups.\n",
        "\n"
      ]
    },
    {
      "cell_type": "code",
      "metadata": {
        "id": "5e6620e9"
      },
      "source": [
        "from sklearn.model_selection import GroupKFold\n",
        "\n",
        "group_kfold = GroupKFold(n_splits=5)"
      ],
      "execution_count": 6,
      "outputs": []
    },
    {
      "cell_type": "markdown",
      "metadata": {
        "id": "28d3c35c"
      },
      "source": [
        "## Perform cross-validation\n",
        "\n",
        "### Subtask:\n",
        "Use `cross_val_score` with the Random Forest model, the feature data, the target variable, the groups, and the GroupKFold strategy.\n"
      ]
    },
    {
      "cell_type": "markdown",
      "metadata": {
        "id": "0c9959d0"
      },
      "source": [
        "**Reasoning**:\n",
        "Import the necessary function and perform the cross-validation.\n",
        "\n"
      ]
    },
    {
      "cell_type": "code",
      "metadata": {
        "id": "b1d71694"
      },
      "source": [
        "from sklearn.model_selection import cross_val_score\n",
        "\n",
        "cv_scores = cross_val_score(rf_classifier, X, y, groups=groups, cv=group_kfold)"
      ],
      "execution_count": 7,
      "outputs": []
    },
    {
      "cell_type": "markdown",
      "metadata": {
        "id": "3e8b4126"
      },
      "source": [
        "## Evaluate results\n",
        "\n",
        "### Subtask:\n",
        "Print the cross-validation scores.\n"
      ]
    },
    {
      "cell_type": "markdown",
      "metadata": {
        "id": "74d92f71"
      },
      "source": [
        "**Reasoning**:\n",
        "Print the cross-validation scores stored in the `cv_scores` variable to fulfill the subtask requirement.\n",
        "\n"
      ]
    },
    {
      "cell_type": "code",
      "metadata": {
        "colab": {
          "base_uri": "https://localhost:8080/"
        },
        "id": "d4e27eec",
        "outputId": "b4461218-fa6f-45a2-a58a-ae1ddb778176"
      },
      "source": [
        "print(\"Cross-validation scores:\", cv_scores)"
      ],
      "execution_count": 8,
      "outputs": [
        {
          "output_type": "stream",
          "name": "stdout",
          "text": [
            "Cross-validation scores: [0.9156 0.8608 0.8784 0.8496 0.8712]\n"
          ]
        }
      ]
    },
    {
      "cell_type": "markdown",
      "metadata": {
        "id": "e8d826ef"
      },
      "source": [
        "## Summary:\n",
        "\n",
        "### Data Analysis Key Findings\n",
        "\n",
        "*   The feature set used for prediction included all columns except 'label', 'x', 'y', and 'ano'.\n",
        "*   A Random Forest Classifier with a `random_state` of 42 was used for the prediction.\n",
        "*   A 5-fold cross-validation was performed using GroupKFold based on the 'poligono\\_id' column.\n",
        "*   The cross-validation scores obtained were: \\[0.9156 0.8608 0.8784 0.8496 0.8712].\n",
        "\n",
        "### Insights or Next Steps\n",
        "\n",
        "*   The cross-validation scores indicate reasonable performance across different groups, with scores ranging from approximately 0.85 to 0.92.\n",
        "*   Further analysis could involve calculating the mean and standard deviation of the cross-validation scores to get an overall performance metric and its variability.\n"
      ]
    },
    {
      "cell_type": "markdown",
      "metadata": {
        "id": "e7bf5c14"
      },
      "source": [
        "## Calculate average confusion matrix\n",
        "\n",
        "### Subtask:\n",
        "Perform cross-validation manually to calculate and average the confusion matrices from each fold."
      ]
    },
    {
      "cell_type": "markdown",
      "metadata": {
        "id": "1ecf7c47"
      },
      "source": [
        "**Reasoning**:\n",
        "Manually iterate through the splits generated by GroupKFold, train the model on the training fold, predict on the test fold, calculate the confusion matrix, and accumulate them to calculate the average."
      ]
    },
    {
      "cell_type": "code",
      "metadata": {
        "colab": {
          "base_uri": "https://localhost:8080/"
        },
        "id": "1f9a990d",
        "outputId": "d82451b1-371c-4587-d0c9-32b7ca40c412"
      },
      "source": [
        "from sklearn.metrics import confusion_matrix\n",
        "import numpy as np\n",
        "\n",
        "# Initialize a variable to accumulate confusion matrices\n",
        "average_confusion_matrix = np.zeros((len(np.unique(y)), len(np.unique(y))))\n",
        "\n",
        "# Perform cross-validation manually\n",
        "for fold, (train_index, test_index) in enumerate(group_kfold.split(X, y, groups)):\n",
        "    print(f\"Processing fold {fold+1}/5\")\n",
        "    X_train, X_test = X.iloc[train_index], X.iloc[test_index]\n",
        "    y_train, y_test = y.iloc[train_index], y.iloc[test_index]\n",
        "\n",
        "    # Train the classifier\n",
        "    rf_classifier.fit(X_train, y_train)\n",
        "\n",
        "    # Predict on the test data\n",
        "    y_pred = rf_classifier.predict(X_test)\n",
        "\n",
        "    # Calculate confusion matrix for the current fold\n",
        "    cm = confusion_matrix(y_test, y_pred)\n",
        "\n",
        "    # Accumulate the confusion matrix\n",
        "    average_confusion_matrix += cm\n",
        "\n",
        "# Calculate the average confusion matrix by dividing by the number of folds\n",
        "average_confusion_matrix = average_confusion_matrix / group_kfold.get_n_splits()\n",
        "\n",
        "print(\"\\nAverage Confusion Matrix across 5 folds:\")\n",
        "print(average_confusion_matrix)"
      ],
      "execution_count": 9,
      "outputs": [
        {
          "output_type": "stream",
          "name": "stdout",
          "text": [
            "Processing fold 1/5\n",
            "Processing fold 2/5\n",
            "Processing fold 3/5\n",
            "Processing fold 4/5\n",
            "Processing fold 5/5\n",
            "\n",
            "Average Confusion Matrix across 5 folds:\n",
            "[[ 226.   274. ]\n",
            " [  38.2 1961.8]]\n"
          ]
        }
      ]
    },
    {
      "cell_type": "code",
      "metadata": {
        "colab": {
          "base_uri": "https://localhost:8080/"
        },
        "id": "a17bb9c1",
        "outputId": "2f446e7e-8ff4-4a70-e574-93c78c161ef9"
      },
      "source": [
        "label_distribution = df['label'].value_counts()\n",
        "print(\"Distribution of 'label' column:\")\n",
        "print(label_distribution)"
      ],
      "execution_count": 10,
      "outputs": [
        {
          "output_type": "stream",
          "name": "stdout",
          "text": [
            "Distribution of 'label' column:\n",
            "label\n",
            "1    10000\n",
            "0     2500\n",
            "Name: count, dtype: int64\n"
          ]
        }
      ]
    }
  ]
}